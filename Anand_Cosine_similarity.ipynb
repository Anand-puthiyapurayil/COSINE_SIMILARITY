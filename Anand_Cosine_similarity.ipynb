{
 "cells": [
  {
   "cell_type": "code",
   "execution_count": null,
   "metadata": {},
   "outputs": [],
   "source": [
    "from numpy import dot\n",
    "from numpy.linalg import norm\n",
    "\n",
    "A=input(\"enter the sentence\")\n",
    "B=input(\"enter another sentence\")\n",
    "print(A,B)\n",
    "\n",
    "text1=A\n",
    "text2=B\n",
    "\n",
    "## v = 1 1 1 1 0\n",
    "x1=text1.lower().split()\n",
    "x2=text2.lower().split()\n",
    "\n",
    "combine=x1+x2\n",
    "\n",
    "convert_set=set(combine)\n",
    "\n",
    "vectorfunction=combine\n",
    "v1 = []\n",
    "v2 = []\n",
    "for i in convert_set:\n",
    "    if i in x1:\n",
    "        v1.append(1)\n",
    "    else:\n",
    "        v1.append(0)\n",
    "\n",
    "    if i in x2:\n",
    "        v2.append(1)\n",
    "    else:\n",
    "        v2.append(0)\n",
    "\n",
    "print(convert_set)\n",
    "print(v1)\n",
    "print(v2)\n",
    "    \n",
    "cos_sim = dot(v1, v2)/(norm(v1)*norm(v2))\n",
    "print(cos_sim)\n"
   ]
  },
  {
   "cell_type": "code",
   "execution_count": null,
   "metadata": {},
   "outputs": [],
   "source": []
  }
 ],
 "metadata": {
  "kernelspec": {
   "display_name": "Python 3",
   "language": "python",
   "name": "python3"
  },
  "language_info": {
   "codemirror_mode": {
    "name": "ipython",
    "version": 3
   },
   "file_extension": ".py",
   "mimetype": "text/x-python",
   "name": "python",
   "nbconvert_exporter": "python",
   "pygments_lexer": "ipython3",
   "version": "3.7.4"
  }
 },
 "nbformat": 4,
 "nbformat_minor": 2
}
